{
 "cells": [
  {
   "cell_type": "code",
   "execution_count": 1,
   "id": "4c52e621",
   "metadata": {},
   "outputs": [],
   "source": [
    "import os\n",
    "import csv\n",
    "import numpy as np\n",
    "import pandas as pd\n",
    "from PIL import Image\n",
    "import matplotlib.image as img\n",
    "import matplotlib.pyplot as plt\n",
    "from sklearn.model_selection import train_test_split \n",
    "from sklearn.neighbors import KNeighborsClassifier\n",
    "from sklearn.decomposition import PCA\n",
    "from sklearn.metrics import classification_report\n",
    "from sklearn.metrics import confusion_matrix"
   ]
  },
  {
   "cell_type": "markdown",
   "id": "01995dfe",
   "metadata": {},
   "source": [
    "# Dataset"
   ]
  },
  {
   "cell_type": "code",
   "execution_count": 2,
   "id": "1a03f0f5",
   "metadata": {},
   "outputs": [],
   "source": [
    "# Converting all the known Images to grey images\n",
    "path = 'KnownImages'\n",
    "myList = os.listdir(path)\n",
    "\n",
    "for i in myList:\n",
    "    openedImg = Image.open(f'{path}/{i}')\n",
    "    studentNames = os.path.splitext(i)[0]\n",
    "    newName = studentNames + 'grey'\n",
    "    openedImg = openedImg.resize((64, 64)).convert('L')\n",
    "    openedImg.save('GreyedImages/' + newName + '.png')"
   ]
  },
  {
   "cell_type": "code",
   "execution_count": 3,
   "id": "ab4e217c",
   "metadata": {},
   "outputs": [],
   "source": [
    "# Encoding thes images array and adding them to the dataset\n",
    "path = 'GreyedImages'\n",
    "myList = os.listdir(path)    \n",
    "images_greyed = []\n",
    "count = 0 \n",
    "\n",
    "with open(r'datasets\\olivetti_X.csv', 'a', newline='') as f:\n",
    "    for i in myList:\n",
    "        count = count + 1\n",
    "        im = img.imread(f'{path}/{i}')\n",
    "        image_reshape = (im.flatten().reshape(-1, 1).T)\n",
    "        writer = csv.writer(f)        \n",
    "        writer.writerows(image_reshape)\n",
    "        \n",
    "        lastRow = pd.read_csv(\"datasets\\olivetti_y.csv\").iloc[-1][0]\n",
    "        data = [str(lastRow+1)]\n",
    "        with open(r'datasets\\olivetti_y.csv', 'a', newline='') as file:\n",
    "            writer = csv.writer(file)  \n",
    "            writer.writerow(data)\n",
    "file.close()\n",
    "f.close()"
   ]
  },
  {
   "cell_type": "code",
   "execution_count": 4,
   "id": "66a01392",
   "metadata": {},
   "outputs": [
    {
     "data": {
      "text/plain": [
       "array([[0.45454547, 0.47107437, 0.51239669, ..., 0.15289256, 0.15289256,\n",
       "        0.15289256],\n",
       "       [0.31818181, 0.40082645, 0.49173555, ..., 0.14049587, 0.14876033,\n",
       "        0.15289256],\n",
       "       [0.19834711, 0.19421488, 0.19421488, ..., 0.75206614, 0.75206614,\n",
       "        0.73966944],\n",
       "       ...,\n",
       "       [0.34901962, 0.36078432, 0.627451  , ..., 0.19607843, 0.46666667,\n",
       "        0.69411767],\n",
       "       [0.24313726, 0.25490198, 0.28627452, ..., 0.14901961, 0.14117648,\n",
       "        0.12156863],\n",
       "       [0.20392157, 0.40784314, 0.45490196, ..., 0.22352941, 0.21960784,\n",
       "        0.20784314]])"
      ]
     },
     "execution_count": 4,
     "metadata": {},
     "output_type": "execute_result"
    }
   ],
   "source": [
    "# Reading the updated datasets as array\n",
    "data = np.loadtxt(open(\"datasets\\olivetti_X.csv\", \"rb\"), delimiter=\",\", skiprows=1)\n",
    "target = np.loadtxt(open(\"datasets\\olivetti_Y.csv\", \"rb\"), delimiter=\",\", skiprows=1)\n",
    "data"
   ]
  },
  {
   "cell_type": "markdown",
   "id": "4cda33c7",
   "metadata": {},
   "source": [
    "# Data Anyalysis"
   ]
  },
  {
   "cell_type": "code",
   "execution_count": 5,
   "id": "5c4eeefa",
   "metadata": {},
   "outputs": [
    {
     "name": "stdout",
     "output_type": "stream",
     "text": [
      "There are 405 images in the dataset\n",
      "There are 46 unique targets in the dataset\n",
      "There are 4096 input features\n",
      "Size of each image is 64 x 64\n"
     ]
    }
   ],
   "source": [
    "print(\"There are {} images in the dataset\".format(len(data)))\n",
    "print(\"There are {} unique targets in the dataset\".format(len(np.unique(target))))\n",
    "print(\"There are {} input features\".format(data.shape[1]))\n",
    "print(\"Size of each image is 64 x 64\")"
   ]
  },
  {
   "cell_type": "markdown",
   "id": "4e0a28fd",
   "metadata": {},
   "source": [
    "# Data Pre-processing "
   ]
  },
  {
   "cell_type": "markdown",
   "id": "0bd5c6a9",
   "metadata": {},
   "source": [
    "# Spliting Dataset"
   ]
  },
  {
   "cell_type": "code",
   "execution_count": 6,
   "id": "6de814cd",
   "metadata": {},
   "outputs": [],
   "source": [
    "X = data\n",
    "y = target\n",
    "Height = 64\n",
    "Width = 64\n",
    "# Split into a training set (75%) and a test set (25%) \n",
    "X_train, X_test, y_train, y_test = train_test_split(X, y, test_size=0.25, random_state=42)"
   ]
  },
  {
   "cell_type": "markdown",
   "id": "ebf835c7",
   "metadata": {},
   "source": [
    "# PCA"
   ]
  },
  {
   "cell_type": "code",
   "execution_count": 7,
   "id": "155e689e",
   "metadata": {},
   "outputs": [
    {
     "name": "stdout",
     "output_type": "stream",
     "text": [
      "Current shape of input data matrix:  (303, 150)\n"
     ]
    }
   ],
   "source": [
    "pca = PCA(n_components=150, whiten=True).fit(X_train)\n",
    "\n",
    "X_train_pca = pca.transform(X_train)\n",
    "X_test_pca = pca.transform(X_test)\n",
    "\n",
    "print(\"Current shape of input data matrix: \", X_train_pca.shape)"
   ]
  },
  {
   "cell_type": "markdown",
   "id": "d1e64591",
   "metadata": {},
   "source": [
    "# KNeighborsClassifier"
   ]
  },
  {
   "cell_type": "code",
   "execution_count": 8,
   "id": "318f6f9f",
   "metadata": {},
   "outputs": [
    {
     "data": {
      "text/plain": [
       "KNeighborsClassifier()"
      ]
     },
     "execution_count": 8,
     "metadata": {},
     "output_type": "execute_result"
    }
   ],
   "source": [
    "model = KNeighborsClassifier(n_neighbors = 5)\n",
    "model.fit(X_train_pca, y_train)"
   ]
  },
  {
   "cell_type": "code",
   "execution_count": 9,
   "id": "733bee43",
   "metadata": {},
   "outputs": [
    {
     "name": "stdout",
     "output_type": "stream",
     "text": [
      "Testing Score = 0.490\n"
     ]
    }
   ],
   "source": [
    "accuracy = model.score(X_test_pca,y_test)\n",
    "print(\"Testing Score = {:.3f}\".format(accuracy))"
   ]
  },
  {
   "cell_type": "code",
   "execution_count": 10,
   "id": "a13c5b66",
   "metadata": {},
   "outputs": [
    {
     "name": "stdout",
     "output_type": "stream",
     "text": [
      "Training Score = 0.640\n"
     ]
    }
   ],
   "source": [
    "accuracy = model.score(X_train_pca,y_train)\n",
    "print(\"Training Score = {:.3f}\".format(accuracy))"
   ]
  },
  {
   "cell_type": "markdown",
   "id": "9710db09",
   "metadata": {},
   "source": [
    "# Confusion Matrix"
   ]
  },
  {
   "cell_type": "code",
   "execution_count": 11,
   "id": "485c7781",
   "metadata": {},
   "outputs": [
    {
     "data": {
      "text/plain": [
       "array([[0, 0, 0, ..., 0, 0, 0],\n",
       "       [0, 0, 0, ..., 0, 0, 0],\n",
       "       [0, 0, 0, ..., 0, 0, 0],\n",
       "       ...,\n",
       "       [0, 0, 0, ..., 0, 0, 0],\n",
       "       [0, 0, 0, ..., 0, 0, 0],\n",
       "       [0, 0, 0, ..., 0, 0, 0]], dtype=int64)"
      ]
     },
     "execution_count": 11,
     "metadata": {},
     "output_type": "execute_result"
    }
   ],
   "source": [
    "y_test_pred = model.predict(X_test_pca)\n",
    "cfm = confusion_matrix(y_test,y_test_pred)\n",
    "cfm"
   ]
  },
  {
   "cell_type": "markdown",
   "id": "5ffae4f2",
   "metadata": {},
   "source": [
    "# Evaluation Metrics"
   ]
  },
  {
   "cell_type": "code",
   "execution_count": 12,
   "id": "6778e286",
   "metadata": {
    "scrolled": true
   },
   "outputs": [
    {
     "name": "stdout",
     "output_type": "stream",
     "text": [
      "              precision    recall  f1-score   support\n",
      "\n",
      "         0.0       0.00      0.00      0.00         3\n",
      "         1.0       0.00      0.00      0.00         3\n",
      "         2.0       0.00      0.00      0.00         2\n",
      "         3.0       0.50      0.33      0.40         3\n",
      "         4.0       0.50      1.00      0.67         4\n",
      "         5.0       0.25      0.33      0.29         3\n",
      "         6.0       0.00      0.00      0.00         1\n",
      "         7.0       1.00      0.33      0.50         6\n",
      "         8.0       0.33      1.00      0.50         2\n",
      "         9.0       1.00      0.33      0.50         3\n",
      "        10.0       1.00      0.67      0.80         3\n",
      "        11.0       1.00      0.67      0.80         3\n",
      "        12.0       0.00      0.00      0.00         2\n",
      "        13.0       1.00      1.00      1.00         3\n",
      "        14.0       0.18      1.00      0.30         3\n",
      "        15.0       0.00      0.00      0.00         2\n",
      "        16.0       0.00      0.00      0.00         1\n",
      "        17.0       0.75      1.00      0.86         3\n",
      "        18.0       0.67      1.00      0.80         2\n",
      "        19.0       1.00      0.50      0.67         2\n",
      "        20.0       0.00      0.00      0.00         0\n",
      "        21.0       1.00      1.00      1.00         3\n",
      "        22.0       0.40      1.00      0.57         2\n",
      "        23.0       0.67      1.00      0.80         2\n",
      "        24.0       1.00      1.00      1.00         2\n",
      "        25.0       0.67      0.50      0.57         4\n",
      "        26.0       1.00      0.50      0.67         2\n",
      "        28.0       1.00      1.00      1.00         1\n",
      "        29.0       0.06      1.00      0.12         1\n",
      "        30.0       0.00      0.00      0.00         1\n",
      "        31.0       0.00      0.00      0.00         3\n",
      "        32.0       1.00      0.50      0.67         2\n",
      "        33.0       1.00      0.40      0.57         5\n",
      "        34.0       0.00      0.00      0.00         1\n",
      "        35.0       0.00      0.00      0.00         4\n",
      "        36.0       0.00      0.00      0.00         3\n",
      "        37.0       1.00      1.00      1.00         2\n",
      "        38.0       1.00      0.50      0.67         4\n",
      "        39.0       0.67      0.67      0.67         3\n",
      "        41.0       0.00      0.00      0.00         1\n",
      "        42.0       0.00      0.00      0.00         1\n",
      "        44.0       0.00      0.00      0.00         1\n",
      "\n",
      "    accuracy                           0.49       102\n",
      "   macro avg       0.47      0.46      0.41       102\n",
      "weighted avg       0.56      0.49      0.47       102\n",
      "\n"
     ]
    },
    {
     "name": "stderr",
     "output_type": "stream",
     "text": [
      "C:\\Users\\Danyal\\anaconda3\\lib\\site-packages\\sklearn\\metrics\\_classification.py:1248: UndefinedMetricWarning: Precision and F-score are ill-defined and being set to 0.0 in labels with no predicted samples. Use `zero_division` parameter to control this behavior.\n",
      "  _warn_prf(average, modifier, msg_start, len(result))\n",
      "C:\\Users\\Danyal\\anaconda3\\lib\\site-packages\\sklearn\\metrics\\_classification.py:1248: UndefinedMetricWarning: Recall and F-score are ill-defined and being set to 0.0 in labels with no true samples. Use `zero_division` parameter to control this behavior.\n",
      "  _warn_prf(average, modifier, msg_start, len(result))\n",
      "C:\\Users\\Danyal\\anaconda3\\lib\\site-packages\\sklearn\\metrics\\_classification.py:1248: UndefinedMetricWarning: Precision and F-score are ill-defined and being set to 0.0 in labels with no predicted samples. Use `zero_division` parameter to control this behavior.\n",
      "  _warn_prf(average, modifier, msg_start, len(result))\n",
      "C:\\Users\\Danyal\\anaconda3\\lib\\site-packages\\sklearn\\metrics\\_classification.py:1248: UndefinedMetricWarning: Recall and F-score are ill-defined and being set to 0.0 in labels with no true samples. Use `zero_division` parameter to control this behavior.\n",
      "  _warn_prf(average, modifier, msg_start, len(result))\n",
      "C:\\Users\\Danyal\\anaconda3\\lib\\site-packages\\sklearn\\metrics\\_classification.py:1248: UndefinedMetricWarning: Precision and F-score are ill-defined and being set to 0.0 in labels with no predicted samples. Use `zero_division` parameter to control this behavior.\n",
      "  _warn_prf(average, modifier, msg_start, len(result))\n",
      "C:\\Users\\Danyal\\anaconda3\\lib\\site-packages\\sklearn\\metrics\\_classification.py:1248: UndefinedMetricWarning: Recall and F-score are ill-defined and being set to 0.0 in labels with no true samples. Use `zero_division` parameter to control this behavior.\n",
      "  _warn_prf(average, modifier, msg_start, len(result))\n"
     ]
    }
   ],
   "source": [
    "cReport = classification_report(y_test, y_test_pred)\n",
    "print(cReport)"
   ]
  },
  {
   "cell_type": "markdown",
   "id": "55a45804",
   "metadata": {},
   "source": [
    "# Resetting Datasets"
   ]
  },
  {
   "cell_type": "code",
   "execution_count": 13,
   "id": "5fab251f",
   "metadata": {},
   "outputs": [],
   "source": [
    "df = pd.read_csv('datasets/olivetti_X.csv')\n",
    "df.drop(df.tail(count).index,inplace=True)\n",
    "df.to_csv('datasets\\olivetti_X.csv', index=False)"
   ]
  },
  {
   "cell_type": "code",
   "execution_count": 14,
   "id": "cae8ad61",
   "metadata": {},
   "outputs": [],
   "source": [
    "df = pd.read_csv('datasets/olivetti_y.csv')\n",
    "df.drop(df.tail(count).index,inplace=True)\n",
    "df.to_csv('datasets\\olivetti_y.csv', index=False)"
   ]
  },
  {
   "cell_type": "code",
   "execution_count": null,
   "id": "12af036b",
   "metadata": {},
   "outputs": [],
   "source": []
  }
 ],
 "metadata": {
  "kernelspec": {
   "display_name": "Python 3 (ipykernel)",
   "language": "python",
   "name": "python3"
  },
  "language_info": {
   "codemirror_mode": {
    "name": "ipython",
    "version": 3
   },
   "file_extension": ".py",
   "mimetype": "text/x-python",
   "name": "python",
   "nbconvert_exporter": "python",
   "pygments_lexer": "ipython3",
   "version": "3.9.7"
  }
 },
 "nbformat": 4,
 "nbformat_minor": 5
}
