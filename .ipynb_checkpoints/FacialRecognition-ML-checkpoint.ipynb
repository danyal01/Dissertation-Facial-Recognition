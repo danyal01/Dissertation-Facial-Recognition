{
 "cells": [
  {
   "cell_type": "code",
   "execution_count": null,
   "id": "4c52e621",
   "metadata": {},
   "outputs": [],
   "source": [
    "import os\n",
    "import csv\n",
    "import numpy as np\n",
    "import pandas as pd\n",
    "from PIL import Image\n",
    "import matplotlib.image as img\n",
    "import matplotlib.pyplot as plt\n",
    "from sklearn.model_selection import train_test_split \n",
    "from sklearn.neighbors import KNeighborsClassifier\n",
    "from sklearn.decomposition import PCA\n",
    "from sklearn.metrics import classification_report\n",
    "from sklearn.metrics import confusion_matrix"
   ]
  },
  {
   "cell_type": "markdown",
   "id": "01995dfe",
   "metadata": {},
   "source": [
    "# Dataset"
   ]
  },
  {
   "cell_type": "code",
   "execution_count": null,
   "id": "1a03f0f5",
   "metadata": {},
   "outputs": [],
   "source": [
    "# Converting all the known Images to grey images\n",
    "path = 'KnownImages'\n",
    "myList = os.listdir(path)\n",
    "\n",
    "for i in myList:\n",
    "    openedImg = Image.open(f'{path}/{i}')\n",
    "    studentNames = os.path.splitext(i)[0]\n",
    "    newName = studentNames + 'grey'\n",
    "    openedImg = openedImg.resize((64, 64)).convert('L')\n",
    "    openedImg.save('GreyedImages/' + newName + '.png')"
   ]
  },
  {
   "cell_type": "code",
   "execution_count": null,
   "id": "ab4e217c",
   "metadata": {},
   "outputs": [],
   "source": [
    "# Encoding thes images array and adding them to the dataset\n",
    "path = 'GreyedImages'\n",
    "myList = os.listdir(path)    \n",
    "images_greyed = []\n",
    "count = 0 \n",
    "\n",
    "with open(r'datasets\\olivetti_X.csv', 'a', newline='') as f:\n",
    "    for i in myList:\n",
    "        count = count + 1\n",
    "        im = img.imread(f'{path}/{i}')\n",
    "        image_reshape = (im.flatten().reshape(-1, 1).T)\n",
    "        writer = csv.writer(f)        \n",
    "        writer.writerows(image_reshape)\n",
    "        \n",
    "        lastRow = pd.read_csv(\"datasets\\olivetti_y.csv\").iloc[-1][0]\n",
    "        data = [str(lastRow+1)]\n",
    "        with open(r'datasets\\olivetti_y.csv', 'a', newline='') as file:\n",
    "            writer = csv.writer(file)  \n",
    "            writer.writerow(data)\n",
    "file.close()\n",
    "f.close()"
   ]
  },
  {
   "cell_type": "code",
   "execution_count": null,
   "id": "66a01392",
   "metadata": {},
   "outputs": [],
   "source": [
    "# Reading the updated datasets as array\n",
    "data = np.loadtxt(open(\"datasets\\olivetti_X.csv\", \"rb\"), delimiter=\",\", skiprows=1)\n",
    "target = np.loadtxt(open(\"datasets\\olivetti_Y.csv\", \"rb\"), delimiter=\",\", skiprows=1)\n",
    "data"
   ]
  },
  {
   "cell_type": "markdown",
   "id": "4cda33c7",
   "metadata": {},
   "source": [
    "# Data Anyalysis"
   ]
  },
  {
   "cell_type": "code",
   "execution_count": null,
   "id": "5c4eeefa",
   "metadata": {},
   "outputs": [],
   "source": [
    "print(\"There are {} images in the dataset\".format(len(data)))\n",
    "print(\"There are {} unique targets in the dataset\".format(len(np.unique(target))))\n",
    "print(\"There are {} input features\".format(data.shape[1]))\n",
    "print(\"Size of each image is 64 x 64\")"
   ]
  },
  {
   "cell_type": "markdown",
   "id": "4e0a28fd",
   "metadata": {},
   "source": [
    "# Data Pre-processing "
   ]
  },
  {
   "cell_type": "markdown",
   "id": "0bd5c6a9",
   "metadata": {},
   "source": [
    "# Spliting Dataset"
   ]
  },
  {
   "cell_type": "code",
   "execution_count": null,
   "id": "6de814cd",
   "metadata": {},
   "outputs": [],
   "source": [
    "X = data\n",
    "y = target\n",
    "Height = 64\n",
    "Width = 64\n",
    "# Split into a training set (75%) and a test set (25%) \n",
    "X_train, X_test, y_train, y_test = train_test_split(X, y, test_size=0.25, random_state=42)"
   ]
  },
  {
   "cell_type": "markdown",
   "id": "ebf835c7",
   "metadata": {},
   "source": [
    "# PCA"
   ]
  },
  {
   "cell_type": "code",
   "execution_count": null,
   "id": "155e689e",
   "metadata": {},
   "outputs": [],
   "source": [
    "pca = PCA(n_components=150, whiten=True).fit(X_train)\n",
    "\n",
    "X_train_pca = pca.transform(X_train)\n",
    "X_test_pca = pca.transform(X_test)\n",
    "\n",
    "print(\"Current shape of input data matrix: \", X_train_pca.shape)"
   ]
  },
  {
   "cell_type": "markdown",
   "id": "d1e64591",
   "metadata": {},
   "source": [
    "# KNeighborsClassifier"
   ]
  },
  {
   "cell_type": "code",
   "execution_count": null,
   "id": "318f6f9f",
   "metadata": {},
   "outputs": [],
   "source": [
    "model = KNeighborsClassifier(n_neighbors = 5)\n",
    "model.fit(X_train_pca, y_train)"
   ]
  },
  {
   "cell_type": "code",
   "execution_count": null,
   "id": "733bee43",
   "metadata": {},
   "outputs": [],
   "source": [
    "accuracy = model.score(X_test_pca,y_test)\n",
    "print(\"Testing Score = {:.3f}\".format(accuracy))"
   ]
  },
  {
   "cell_type": "code",
   "execution_count": null,
   "id": "a13c5b66",
   "metadata": {},
   "outputs": [],
   "source": [
    "accuracy = model.score(X_train_pca,y_train)\n",
    "print(\"Training Score = {:.3f}\".format(accuracy))"
   ]
  },
  {
   "cell_type": "markdown",
   "id": "9710db09",
   "metadata": {},
   "source": [
    "# Confusion Matrix"
   ]
  },
  {
   "cell_type": "code",
   "execution_count": null,
   "id": "485c7781",
   "metadata": {},
   "outputs": [],
   "source": [
    "y_test_pred = model.predict(X_test_pca)\n",
    "cfm = confusion_matrix(y_test,y_test_pred)\n",
    "cfm"
   ]
  },
  {
   "cell_type": "markdown",
   "id": "5ffae4f2",
   "metadata": {},
   "source": [
    "# Evaluation Metrics"
   ]
  },
  {
   "cell_type": "code",
   "execution_count": null,
   "id": "6778e286",
   "metadata": {},
   "outputs": [],
   "source": [
    "cReport = classification_report(y_test, y_test_pred)\n",
    "print(cReport)"
   ]
  },
  {
   "cell_type": "markdown",
   "id": "55a45804",
   "metadata": {},
   "source": [
    "# Resetting Datasets"
   ]
  },
  {
   "cell_type": "code",
   "execution_count": null,
   "id": "5fab251f",
   "metadata": {},
   "outputs": [],
   "source": [
    "df = pd.read_csv('datasets/olivetti_X.csv')\n",
    "df.drop(df.tail(count).index,inplace=True)\n",
    "df.to_csv('datasets\\olivetti_X.csv', index=False)"
   ]
  },
  {
   "cell_type": "code",
   "execution_count": null,
   "id": "cae8ad61",
   "metadata": {},
   "outputs": [],
   "source": [
    "df = pd.read_csv('datasets/olivetti_y.csv')\n",
    "df.drop(df.tail(count).index,inplace=True)\n",
    "df.to_csv('datasets\\olivetti_y.csv', index=False)"
   ]
  }
 ],
 "metadata": {
  "kernelspec": {
   "display_name": "Python 3 (ipykernel)",
   "language": "python",
   "name": "python3"
  },
  "language_info": {
   "codemirror_mode": {
    "name": "ipython",
    "version": 3
   },
   "file_extension": ".py",
   "mimetype": "text/x-python",
   "name": "python",
   "nbconvert_exporter": "python",
   "pygments_lexer": "ipython3",
   "version": "3.9.7"
  }
 },
 "nbformat": 4,
 "nbformat_minor": 5
}
