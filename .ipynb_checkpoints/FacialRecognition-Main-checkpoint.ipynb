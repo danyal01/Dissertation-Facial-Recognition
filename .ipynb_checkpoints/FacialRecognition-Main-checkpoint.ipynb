{
 "cells": [
  {
   "cell_type": "code",
   "execution_count": 1,
   "metadata": {},
   "outputs": [
    {
     "name": "stdout",
     "output_type": "stream",
     "text": [
      "pygame 2.1.2 (SDL 2.0.18, Python 3.9.7)\n",
      "Hello from the pygame community. https://www.pygame.org/contribute.html\n"
     ]
    }
   ],
   "source": [
    "import sys\n",
    "sys.path.append('C:/Users/Danyal/AppData/Local/Programs/Python/Python39/Lib/site-packages')\n",
    "import cv2\n",
    "import os\n",
    "import numpy as np\n",
    "#print(cv2.__version__)\n",
    "import face_recognition\n",
    "import pygame\n",
    "import datetime"
   ]
  },
  {
   "cell_type": "markdown",
   "metadata": {},
   "source": [
    "# Facial Recognition"
   ]
  },
  {
   "cell_type": "code",
   "execution_count": null,
   "metadata": {},
   "outputs": [],
   "source": [
    "# Setting successfull sound que\n",
    "pygame.mixer.init()\n",
    "pygame.mixer.set_num_channels(8)\n",
    "voice = pygame.mixer.Channel(2)\n",
    "correctSound = pygame.mixer.Sound(\"Correct.mp3\")\n",
    "\n",
    "# Recording the time to ensure the sound isnt played continuously\n",
    "lastTime = datetime.datetime.now()\n",
    "currentTime = datetime.datetime.now()\n",
    "\n",
    "# Get user supplied values\n",
    "cascPath = sys.argv[1]\n",
    "\n",
    "# Create the haar cascade\n",
    "faceCascade = cv2.CascadeClassifier(cv2.data.haarcascades + 'haarcascade_frontalface_default.xml')\n",
    "\n",
    "# Setting video source to the default webcam\n",
    "video_capture = cv2.VideoCapture(0)\n",
    "\n",
    "while True:\n",
    "    # Capture frame-by-frame\n",
    "    ret, frame = video_capture.read()\n",
    "\n",
    "    gray = cv2.cvtColor(frame, cv2.COLOR_BGR2GRAY)\n",
    "\n",
    "    # Detect faces in the video\n",
    "    faces = (faceCascade.detectMultiScale(\n",
    "        gray,\n",
    "        scaleFactor=1.2, #scaleFactor=1.1\n",
    "        minNeighbors=5,\n",
    "        minSize=(30, 30),\n",
    "        flags=cv2.CASCADE_SCALE_IMAGE)\n",
    "    )\n",
    "    \n",
    "    # Plays Sound, if there is a face and previous sound isnt playing  \n",
    "    if len(faces) > 0:\n",
    "        if voice.get_busy() == False:\n",
    "            if(currentTime - lastTime).seconds > 1.5:\n",
    "                lastTime = datetime.datetime.now()\n",
    "                voice.play(correctSound)\n",
    "                \n",
    "    # Draw a rectangle around the faces\n",
    "    for (x, y, w, h) in faces:\n",
    "        cv2.rectangle(frame, (x, y), (x+w, y+h), (0, 255, 0), 2)\n",
    "        filename = datetime.datetime.now().strftime(\"%d_%m_%Y-%I_%M_%S_%p\")\n",
    "        cv2.imwrite('UnknownImages/' + str(filename) +'.jpg',frame) \n",
    "        currentTime = datetime.datetime.now()\n",
    "        \n",
    "    # Display the resulting frame\n",
    "    cv2.imshow('Video', frame)\n",
    "    \n",
    "    # Exists if the q key is pressed\n",
    "    if cv2.waitKey(1) & 0xFF == ord('q'): \n",
    "        break\n",
    "        \n",
    "# When everything is done, release the capture\n",
    "video_capture.release()\n",
    "cv2.destroyAllWindows()"
   ]
  },
  {
   "cell_type": "markdown",
   "metadata": {},
   "source": [
    "# Facial Detection"
   ]
  },
  {
   "cell_type": "code",
   "execution_count": 3,
   "metadata": {},
   "outputs": [
    {
     "name": "stdout",
     "output_type": "stream",
     "text": [
      "['Danyal', 'David', 'Joe', 'May', 'Obama']\n",
      "Encoding Complete\n",
      "Match for DANYAL, Score = 0.379301568498569\n"
     ]
    }
   ],
   "source": [
    "path = 'KnownImages'\n",
    "knownImages = []\n",
    "studentNames = []\n",
    "encodedList = []\n",
    "myList = os.listdir(path)\n",
    "\n",
    "# Importing all Images and appending filename to list\n",
    "for i in myList:\n",
    "    current = cv2.imread(f'{path}/{i}')\n",
    "    knownImages.append(current)\n",
    "    studentNames.append(os.path.splitext(i)[0])\n",
    "print(studentNames)\n",
    "\n",
    "# Encoding all the Known Images\n",
    "def encodeImages(images):\n",
    "    for image in knownImages:\n",
    "        currentEncode = face_recognition.face_encodings(image)[0]\n",
    "        encodedList.append(currentEncode)\n",
    "    return encodedList\n",
    "\n",
    "# Marking students attendance \n",
    "def attendanceMark(name):\n",
    "    with open('Attendance.csv','r+') as attFile:\n",
    "        AttendanceList = attFile.readlines()\n",
    "        nameList = []\n",
    "        for line in AttendanceList:\n",
    "            pointer = line.split(',')\n",
    "            nameList.append(pointer[0])\n",
    "        if name not in nameList:\n",
    "            currentTime = datetime.datetime.now().strftime('%H:%M:%S')\n",
    "            attFile.writelines(f'\\n{name},{currentTime}')\n",
    "                                          \n",
    "# Loading the images \n",
    "unknown_image = face_recognition.load_image_file(\"UnknownImages/12_01_2022-03_32_54_PM.jpg\")\n",
    "unknown_encoding = face_recognition.face_encodings(unknown_image)[0]\n",
    "\n",
    "encodedKnownList = encodeImages(knownImages)\n",
    "print('Encoding Complete')\n",
    "\n",
    "# Comparing two face encodings to see whether the person in the images are the same person\n",
    "results = face_recognition.compare_faces(encodedKnownList, unknown_encoding)\n",
    "\n",
    "# Distance indicates how similar the faces are\n",
    "distance = face_recognition.face_distance(encodedKnownList, unknown_encoding)\n",
    "\n",
    "resultsIndex = np.argmin(distance)\n",
    "\n",
    "if results[resultsIndex]:\n",
    "    name = studentNames[resultsIndex].upper()\n",
    "    print(\"Match for {0}, Score = {1}\".format(name,distance[resultsIndex]))\n",
    "    attendanceMark(name)\n",
    "else:\n",
    "    print(\"No Match Found, Score = \", distance[resultsIndex])\n",
    "    \n",
    "#Match accuracy of = 0.38-0.48, Despite not being a match an image of Joe Bidens face is more similar then my own images \n",
    "#Need to review name recording once because student may scan in before lesson"
   ]
  },
  {
   "cell_type": "code",
   "execution_count": null,
   "metadata": {},
   "outputs": [],
   "source": []
  }
 ],
 "metadata": {
  "kernelspec": {
   "display_name": "Python 3 (ipykernel)",
   "language": "python",
   "name": "python3"
  },
  "language_info": {
   "codemirror_mode": {
    "name": "ipython",
    "version": 3
   },
   "file_extension": ".py",
   "mimetype": "text/x-python",
   "name": "python",
   "nbconvert_exporter": "python",
   "pygments_lexer": "ipython3",
   "version": "3.9.7"
  }
 },
 "nbformat": 4,
 "nbformat_minor": 2
}
