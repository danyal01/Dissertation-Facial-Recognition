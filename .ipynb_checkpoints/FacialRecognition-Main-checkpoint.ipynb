{
 "cells": [
  {
   "cell_type": "code",
   "execution_count": 8,
   "metadata": {},
   "outputs": [],
   "source": [
    "import sys\n",
    "sys.path.append('C:/Users/Danyal/AppData/Local/Programs/Python/Python39/Lib/site-packages')\n",
    "import cv2\n",
    "#print(cv2.__version__)\n",
    "import face_recognition\n",
    "import pygame\n",
    "import datetime"
   ]
  },
  {
   "cell_type": "markdown",
   "metadata": {},
   "source": [
    "# Facial Recognition"
   ]
  },
  {
   "cell_type": "code",
   "execution_count": 9,
   "metadata": {},
   "outputs": [],
   "source": [
    "# Setting successfull sound que\n",
    "pygame.mixer.init()\n",
    "pygame.mixer.set_num_channels(8)\n",
    "voice = pygame.mixer.Channel(2)\n",
    "correctSound = pygame.mixer.Sound(\"Correct.mp3\")\n",
    "\n",
    "# Recording the time to ensure the sound isnt played continuously\n",
    "lastTime = datetime.datetime.now()\n",
    "currentTime = datetime.datetime.now()\n",
    "\n",
    "# Get user supplied values\n",
    "cascPath = sys.argv[1]\n",
    "\n",
    "# Create the haar cascade\n",
    "faceCascade = cv2.CascadeClassifier(cv2.data.haarcascades + 'haarcascade_frontalface_default.xml')\n",
    "\n",
    "# Setting video source to the default webcam\n",
    "video_capture = cv2.VideoCapture(0)\n",
    "\n",
    "while True:\n",
    "    # Capture frame-by-frame\n",
    "    ret, frame = video_capture.read()\n",
    "\n",
    "    gray = cv2.cvtColor(frame, cv2.COLOR_BGR2GRAY)\n",
    "\n",
    "    # Detect faces in the video\n",
    "    faces = (faceCascade.detectMultiScale(\n",
    "        gray,\n",
    "        scaleFactor=1.2, #scaleFactor=1.1\n",
    "        minNeighbors=5,\n",
    "        minSize=(30, 30),\n",
    "        flags=cv2.CASCADE_SCALE_IMAGE)\n",
    "    )\n",
    "    \n",
    "    # Plays Sound, if there is a face and previous sound isnt playing  \n",
    "    if len(faces) > 0:\n",
    "        if voice.get_busy() == False:\n",
    "            if(currentTime - lastTime).seconds > 1.5:\n",
    "                lastTime = datetime.datetime.now()\n",
    "                voice.play(correctSound)\n",
    "                \n",
    "    # Draw a rectangle around the faces\n",
    "    for (x, y, w, h) in faces:\n",
    "        cv2.rectangle(frame, (x, y), (x+w, y+h), (0, 255, 0), 2)\n",
    "        filename = datetime.datetime.now().strftime(\"%d_%m_%Y-%I_%M_%S_%p\")\n",
    "        cv2.imwrite('UnknownImages/' + str(filename) +'.jpg',frame) \n",
    "        currentTime = datetime.datetime.now()\n",
    "        \n",
    "    # Display the resulting frame\n",
    "    cv2.imshow('Video', frame)\n",
    "    \n",
    "    # Exists if the q key is pressed\n",
    "    if cv2.waitKey(1) & 0xFF == ord('q'): \n",
    "        break\n",
    "        \n",
    "# When everything is done, release the capture\n",
    "video_capture.release()\n",
    "cv2.destroyAllWindows()"
   ]
  },
  {
   "cell_type": "markdown",
   "metadata": {},
   "source": [
    "# Facial Detection"
   ]
  },
  {
   "cell_type": "code",
   "execution_count": 7,
   "metadata": {},
   "outputs": [
    {
     "name": "stdout",
     "output_type": "stream",
     "text": [
      "Match  [0.48066205]\n"
     ]
    }
   ],
   "source": [
    "# Loading the images \n",
    "unknown_image = face_recognition.load_image_file(\"UnknownImages/12_01_2022-03_32_54_PM.jpg\")\n",
    "#unknown_image = face_recognition.load_image_file(\"UnknownImages/12_01_2022-03_32_53_PM.jpg\")\n",
    "known_image = face_recognition.load_image_file(\"KnownImages/Danyal4.jpg\")\n",
    "#known_image = face_recognition.load_image_file(\"KnownImages/Joe.jpg\")\n",
    "\n",
    "# Array listing the co-ordinates of each face\n",
    "unknown_locations = face_recognition.face_locations(unknown_image)[0]\n",
    "known_locations = face_recognition.face_locations(known_image)[0]\n",
    "\n",
    "# Encoding of the facial features\n",
    "unknown_encoding = face_recognition.face_encodings(unknown_image)[0]\n",
    "known_encoding = face_recognition.face_encodings(known_image)[0]\n",
    "\n",
    "# Comparing two face encodings to see whether the person in the images are the same person\n",
    "results = face_recognition.compare_faces([known_encoding], unknown_encoding)\n",
    "\n",
    "# Distance indicates how similar the faces are\n",
    "distance = face_recognition.face_distance([known_encoding], unknown_encoding)\n",
    "\n",
    "if results[0] == True:\n",
    "    print(\"Match \", distance)\n",
    "else:\n",
    "    print(\"No Match \", distance)\n",
    "    \n",
    "#Match accuracy of = 0.38-0.48, Despite not being a match an image of Joe Bidens face is more similar then my own images "
   ]
  },
  {
   "cell_type": "code",
   "execution_count": null,
   "metadata": {},
   "outputs": [],
   "source": []
  }
 ],
 "metadata": {
  "kernelspec": {
   "display_name": "Python 3 (ipykernel)",
   "language": "python",
   "name": "python3"
  },
  "language_info": {
   "codemirror_mode": {
    "name": "ipython",
    "version": 3
   },
   "file_extension": ".py",
   "mimetype": "text/x-python",
   "name": "python",
   "nbconvert_exporter": "python",
   "pygments_lexer": "ipython3",
   "version": "3.9.7"
  }
 },
 "nbformat": 4,
 "nbformat_minor": 2
}
